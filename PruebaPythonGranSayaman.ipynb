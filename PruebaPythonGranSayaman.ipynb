{
 "cells": [
  {
   "cell_type": "markdown",
   "id": "55d2b84e",
   "metadata": {},
   "source": [
    "# Prueba de Python sobre ventas de tienda Gran Sayaman"
   ]
  },
  {
   "cell_type": "code",
   "execution_count": 68,
   "id": "7301b600",
   "metadata": {},
   "outputs": [],
   "source": [
    "# Importando librerías\n",
    "import os\n",
    "import csv\n",
    "import pandas as pd\n",
    "import matplotlib.pyplot as plt"
   ]
  },
  {
   "cell_type": "code",
   "execution_count": 69,
   "id": "5404ffd6",
   "metadata": {},
   "outputs": [
    {
     "data": {
      "text/html": [
       "<div>\n",
       "<style scoped>\n",
       "    .dataframe tbody tr th:only-of-type {\n",
       "        vertical-align: middle;\n",
       "    }\n",
       "\n",
       "    .dataframe tbody tr th {\n",
       "        vertical-align: top;\n",
       "    }\n",
       "\n",
       "    .dataframe thead th {\n",
       "        text-align: right;\n",
       "    }\n",
       "</style>\n",
       "<table border=\"1\" class=\"dataframe\">\n",
       "  <thead>\n",
       "    <tr style=\"text-align: right;\">\n",
       "      <th></th>\n",
       "      <th>fecha</th>\n",
       "      <th>producto</th>\n",
       "      <th>cantidad</th>\n",
       "      <th>precio_unitario</th>\n",
       "    </tr>\n",
       "  </thead>\n",
       "  <tbody>\n",
       "    <tr>\n",
       "      <th>0</th>\n",
       "      <td>1/1/2024</td>\n",
       "      <td>Producto A</td>\n",
       "      <td>10</td>\n",
       "      <td>5</td>\n",
       "    </tr>\n",
       "    <tr>\n",
       "      <th>1</th>\n",
       "      <td>1/1/2024</td>\n",
       "      <td>Producto B</td>\n",
       "      <td>5</td>\n",
       "      <td>10</td>\n",
       "    </tr>\n",
       "    <tr>\n",
       "      <th>2</th>\n",
       "      <td>1/2/2024</td>\n",
       "      <td>Producto A</td>\n",
       "      <td>20</td>\n",
       "      <td>5</td>\n",
       "    </tr>\n",
       "    <tr>\n",
       "      <th>3</th>\n",
       "      <td>1/2/2024</td>\n",
       "      <td>Producto C</td>\n",
       "      <td>15</td>\n",
       "      <td>7</td>\n",
       "    </tr>\n",
       "    <tr>\n",
       "      <th>4</th>\n",
       "      <td>1/3/2024</td>\n",
       "      <td>Producto B</td>\n",
       "      <td>10</td>\n",
       "      <td>10</td>\n",
       "    </tr>\n",
       "    <tr>\n",
       "      <th>5</th>\n",
       "      <td>1/3/2024</td>\n",
       "      <td>Producto C</td>\n",
       "      <td>5</td>\n",
       "      <td>7</td>\n",
       "    </tr>\n",
       "  </tbody>\n",
       "</table>\n",
       "</div>"
      ],
      "text/plain": [
       "      fecha    producto  cantidad  precio_unitario\n",
       "0  1/1/2024  Producto A        10                5\n",
       "1  1/1/2024  Producto B         5               10\n",
       "2  1/2/2024  Producto A        20                5\n",
       "3  1/2/2024  Producto C        15                7\n",
       "4  1/3/2024  Producto B        10               10\n",
       "5  1/3/2024  Producto C         5                7"
      ]
     },
     "execution_count": 69,
     "metadata": {},
     "output_type": "execute_result"
    }
   ],
   "source": [
    "# Lectura de CSV\n",
    "ruta_archivo = \"Datasets\\\\VentasGranSayaman.csv\"\n",
    "df_ventas = pd.read_csv(ruta_archivo)\n",
    "\n",
    "df_ventas"
   ]
  },
  {
   "cell_type": "code",
   "execution_count": 70,
   "id": "628c48b6",
   "metadata": {},
   "outputs": [],
   "source": [
    "# Convertir columna fecha a formato fecha\n",
    "df_ventas['fecha'] = pd.to_datetime(df_ventas['fecha'])"
   ]
  },
  {
   "cell_type": "code",
   "execution_count": 71,
   "id": "a685db0b",
   "metadata": {},
   "outputs": [],
   "source": [
    "# Limpieza en caso se requiera retirar los valores nulos de cada variable\n",
    "df_ventas_limpio = df_ventas.loc[\n",
    "    df_ventas['fecha'].notnull() &\n",
    "    df_ventas['producto'].notnull() &\n",
    "    df_ventas['cantidad'].notnull() &\n",
    "    df_ventas['precio_unitario'].notnull()]"
   ]
  },
  {
   "cell_type": "code",
   "execution_count": 72,
   "id": "bb676b53",
   "metadata": {},
   "outputs": [
    {
     "data": {
      "text/html": [
       "<div>\n",
       "<style scoped>\n",
       "    .dataframe tbody tr th:only-of-type {\n",
       "        vertical-align: middle;\n",
       "    }\n",
       "\n",
       "    .dataframe tbody tr th {\n",
       "        vertical-align: top;\n",
       "    }\n",
       "\n",
       "    .dataframe thead th {\n",
       "        text-align: right;\n",
       "    }\n",
       "</style>\n",
       "<table border=\"1\" class=\"dataframe\">\n",
       "  <thead>\n",
       "    <tr style=\"text-align: right;\">\n",
       "      <th></th>\n",
       "      <th>producto</th>\n",
       "      <th>cantidad</th>\n",
       "    </tr>\n",
       "  </thead>\n",
       "  <tbody>\n",
       "    <tr>\n",
       "      <th>0</th>\n",
       "      <td>Producto A</td>\n",
       "      <td>30</td>\n",
       "    </tr>\n",
       "    <tr>\n",
       "      <th>1</th>\n",
       "      <td>Producto B</td>\n",
       "      <td>15</td>\n",
       "    </tr>\n",
       "    <tr>\n",
       "      <th>2</th>\n",
       "      <td>Producto C</td>\n",
       "      <td>20</td>\n",
       "    </tr>\n",
       "  </tbody>\n",
       "</table>\n",
       "</div>"
      ],
      "text/plain": [
       "     producto  cantidad\n",
       "0  Producto A        30\n",
       "1  Producto B        15\n",
       "2  Producto C        20"
      ]
     },
     "execution_count": 72,
     "metadata": {},
     "output_type": "execute_result"
    }
   ],
   "source": [
    "# Total de ventas por producto\n",
    "df_ventas_x_producto = df_ventas_limpio.groupby('producto')['cantidad'].sum().reset_index()\n",
    "df_ventas_x_producto"
   ]
  },
  {
   "cell_type": "code",
   "execution_count": 73,
   "id": "78d0eb65",
   "metadata": {},
   "outputs": [],
   "source": [
    "# Producto más vendido según el valor de venta (precio x cantidad vendida)\n",
    "df_ventas_limpio['valor_venta'] = df_ventas_limpio['cantidad'] * df_ventas_limpio['precio_unitario']"
   ]
  },
  {
   "cell_type": "code",
   "execution_count": 74,
   "id": "c560ed50",
   "metadata": {},
   "outputs": [
    {
     "data": {
      "text/plain": [
       "1   2024-01-02\n",
       "0   2024-01-01\n",
       "2   2024-01-03\n",
       "Name: fecha, dtype: datetime64[ns]"
      ]
     },
     "execution_count": 74,
     "metadata": {},
     "output_type": "execute_result"
    }
   ],
   "source": [
    "# Los 5 días con mayor cantidad de ventas (Solo cantidad)\n",
    "\n",
    "# Crear un dataset con informacion agregada de cantidad de ventas por día\n",
    "df_ventas_x_dia = df_ventas_limpio.groupby('fecha')['cantidad'].sum().reset_index()\n",
    "\n",
    "# Obtener el top 5 de cantidades vendidas\n",
    "df_top_5_cantidad = df_ventas_x_dia.nlargest(5, 'cantidad')\n",
    "\n",
    "# Mostrar las fechas del top 5\n",
    "df_top_5_cantidad['fecha']"
   ]
  },
  {
   "cell_type": "code",
   "execution_count": 75,
   "id": "1c4b91b9",
   "metadata": {},
   "outputs": [
    {
     "data": {
      "image/png": "[encoded data removed]",
      "text/plain": [
       "<Figure size 640x480 with 1 Axes>"
      ]
     },
     "metadata": {},
     "output_type": "display_data"
    }
   ],
   "source": [
    "# Gráfico de ventas por producto\n",
    "plt.bar(df_ventas_x_producto['producto'], df_ventas_x_producto['cantidad'])\n",
    "\n",
    "plt.ylabel(\"Cantidad vendida\")\n",
    "plt.title(\"Cantidad de ventas por producto\")\n",
    "plt.show()"
   ]
  },
  {
   "cell_type": "code",
   "execution_count": null,
   "id": "705c5cf8",
   "metadata": {},
   "outputs": [],
   "source": []
  }
 ],
 "metadata": {
  "kernelspec": {
   "display_name": "Python 3 (ipykernel)",
   "language": "python",
   "name": "python3"
  },
  "language_info": {
   "codemirror_mode": {
    "name": "ipython",
    "version": 3
   },
   "file_extension": ".py",
   "mimetype": "text/x-python",
   "name": "python",
   "nbconvert_exporter": "python",
   "pygments_lexer": "ipython3",
   "version": "3.11.5"
  }
 },
 "nbformat": 4,
 "nbformat_minor": 5
}
